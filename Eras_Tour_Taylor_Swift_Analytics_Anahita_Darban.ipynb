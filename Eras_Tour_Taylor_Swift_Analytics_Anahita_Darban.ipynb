{
 "cells": [
  {
   "cell_type": "markdown",
   "id": "3552876e",
   "metadata": {},
   "source": [
    "# TaylorSwift — Eras Tour Social Media Analytics"
   ]
  },
  {
   "cell_type": "code",
   "execution_count": 2,
   "id": "5762544c",
   "metadata": {},
   "outputs": [],
   "source": [
    "from pathlib import Path\n",
    "import re, os, math, json\n",
    "import pandas as pd\n",
    "import numpy as np"
   ]
  },
  {
   "cell_type": "code",
   "execution_count": 3,
   "id": "e705147b-02a6-46bc-9678-ff3604175e31",
   "metadata": {},
   "outputs": [],
   "source": [
    "data_dir = Path(\"Semester 2/Social media/Project/new/TaylorSwift13.csv\")"
   ]
  },
  {
   "cell_type": "code",
   "execution_count": 4,
   "id": "0e72d205-7c82-46f1-95e4-e987c4b0e12b",
   "metadata": {},
   "outputs": [],
   "source": [
    "data_dir.mkdir(parents=True, exist_ok=True)"
   ]
  },
  {
   "cell_type": "code",
   "execution_count": 5,
   "id": "76e25b57-c316-4d7a-b869-1679c1385c12",
   "metadata": {},
   "outputs": [],
   "source": [
    "input_csv = \"Semester 2/Social media/Project/new/TaylorSwift13.csv\""
   ]
  },
  {
   "cell_type": "code",
   "execution_count": 6,
   "id": "14978010-0c47-47f7-bceb-5ca1d1428ec2",
   "metadata": {},
   "outputs": [],
   "source": [
    "text_candidates = [\"content\",\"text\",\"full_text\",\"tweet\",\"message\",\"body\"]"
   ]
  },
  {
   "cell_type": "code",
   "execution_count": 7,
   "id": "89321d42-7f02-4ae6-844b-3ac43b54d05c",
   "metadata": {},
   "outputs": [],
   "source": [
    "time_candidates = [\"created_at\",\"date\",\"datetime\",\"timestamp\",\"created\",\"time\"]"
   ]
  },
  {
   "cell_type": "code",
   "execution_count": 8,
   "id": "00b26aac-dd61-40e4-807b-2a649a1d4994",
   "metadata": {},
   "outputs": [],
   "source": [
    "user_candidates = [\"user\",\"username\",\"screen_name\",\"author\"]"
   ]
  },
  {
   "cell_type": "code",
   "execution_count": 9,
   "id": "a1e8743d-81cf-4273-8603-20ee7ac2ac6a",
   "metadata": {},
   "outputs": [],
   "source": [
    "mention_candidates = [\"mentions\",\"user_mentions\",\"mentioned_users\"]"
   ]
  },
  {
   "cell_type": "code",
   "execution_count": 10,
   "id": "a80d939b",
   "metadata": {},
   "outputs": [
    {
     "name": "stdout",
     "output_type": "stream",
     "text": [
      "packages -> nltk: True | vader: True | sklearn: True | statsmodels: False\n"
     ]
    }
   ],
   "source": [
    "nltk = None\n",
    "try:\n",
    "    import nltk as _nltk\n",
    "    nltk = _nltk\n",
    "except Exception:\n",
    "    pass\n",
    "try:\n",
    "    from nltk.sentiment import SentimentIntensityAnalyzer\n",
    "    nltk_vader_available = True\n",
    "except Exception:\n",
    "    nltk_vader_available = False\n",
    "try:\n",
    "    from sklearn.feature_extraction.text import CountVectorizer\n",
    "    from sklearn.decomposition import LatentDirichletAllocation\n",
    "    sklearn_available = True\n",
    "except Exception:\n",
    "    sklearn_available = False\n",
    "try:\n",
    "    from statsmodels.tsa.arima.model import ARIMA\n",
    "    statsmodels_available = True\n",
    "except Exception:\n",
    "    statsmodels_available = False\n",
    "try:\n",
    "    import matplotlib.pyplot as plt\n",
    "    matplotlib_available = True\n",
    "except Exception:\n",
    "    matplotlib_available = False\n",
    "print(\"packages -> nltk:\", bool(nltk), \"| vader:\", nltk_vader_available, \"| sklearn:\", sklearn_available, \"| statsmodels:\", statsmodels_available)"
   ]
  },
  {
   "cell_type": "markdown",
   "id": "3c2ff8bb-8497-4442-961e-3d2d8b250102",
   "metadata": {},
   "source": [
    "## Loading the data"
   ]
  },
  {
   "cell_type": "code",
   "execution_count": 12,
   "id": "5919480d",
   "metadata": {},
   "outputs": [
    {
     "data": {
      "text/html": [
       "<div>\n",
       "<style scoped>\n",
       "    .dataframe tbody tr th:only-of-type {\n",
       "        vertical-align: middle;\n",
       "    }\n",
       "\n",
       "    .dataframe tbody tr th {\n",
       "        vertical-align: top;\n",
       "    }\n",
       "\n",
       "    .dataframe thead th {\n",
       "        text-align: right;\n",
       "    }\n",
       "</style>\n",
       "<table border=\"1\" class=\"dataframe\">\n",
       "  <thead>\n",
       "    <tr style=\"text-align: right;\">\n",
       "      <th></th>\n",
       "      <th>content</th>\n",
       "      <th>created_at</th>\n",
       "      <th>date</th>\n",
       "      <th>likeCount</th>\n",
       "      <th>media</th>\n",
       "      <th>outlinks</th>\n",
       "      <th>quoteCount</th>\n",
       "      <th>quotedTweet</th>\n",
       "      <th>replyCount</th>\n",
       "      <th>retweetCount</th>\n",
       "      <th>retweetedTweet</th>\n",
       "      <th>url</th>\n",
       "      <th>id</th>\n",
       "      <th>conversationId</th>\n",
       "    </tr>\n",
       "  </thead>\n",
       "  <tbody>\n",
       "    <tr>\n",
       "      <th>0</th>\n",
       "      <td>Thanks for all the beautiful wishes today!! I ...</td>\n",
       "      <td>Tue Dec 13 23:07:26 +0000 2022</td>\n",
       "      <td>2022-12-13 23:07:26+00:00</td>\n",
       "      <td>602625</td>\n",
       "      <td>[Photo(previewUrl='https://pbs.twimg.com/media...</td>\n",
       "      <td>[]</td>\n",
       "      <td>24562</td>\n",
       "      <td>NaN</td>\n",
       "      <td>22331</td>\n",
       "      <td>96825</td>\n",
       "      <td>NaN</td>\n",
       "      <td>https://twitter.com/taylorswift13/status/16028...</td>\n",
       "      <td>1602802403492995072</td>\n",
       "      <td>1602802403492995072</td>\n",
       "    </tr>\n",
       "    <tr>\n",
       "      <th>1</th>\n",
       "      <td>@BBCR1 @DermotKennedy @BBCSounds WOW - Absolut...</td>\n",
       "      <td>Tue Nov 15 17:17:51 +0000 2022</td>\n",
       "      <td>2022-11-15 17:17:51+00:00</td>\n",
       "      <td>32877</td>\n",
       "      <td>NaN</td>\n",
       "      <td>[]</td>\n",
       "      <td>1708</td>\n",
       "      <td>NaN</td>\n",
       "      <td>2521</td>\n",
       "      <td>3115</td>\n",
       "      <td>NaN</td>\n",
       "      <td>https://twitter.com/taylorswift13/status/15925...</td>\n",
       "      <td>1592567568191356930</td>\n",
       "      <td>1592503899759394818</td>\n",
       "    </tr>\n",
       "    <tr>\n",
       "      <th>2</th>\n",
       "      <td>Anti hero but make it acoustic 🥲\\n\\nNow at htt...</td>\n",
       "      <td>Fri Nov 11 00:31:01 +0000 2022</td>\n",
       "      <td>2022-11-11 00:31:01+00:00</td>\n",
       "      <td>228241</td>\n",
       "      <td>[Photo(previewUrl='https://pbs.twimg.com/media...</td>\n",
       "      <td>['http://store.taylorswift.com']</td>\n",
       "      <td>8938</td>\n",
       "      <td>NaN</td>\n",
       "      <td>7083</td>\n",
       "      <td>23829</td>\n",
       "      <td>NaN</td>\n",
       "      <td>https://twitter.com/taylorswift13/status/15908...</td>\n",
       "      <td>1590864637356310528</td>\n",
       "      <td>1590864637356310528</td>\n",
       "    </tr>\n",
       "    <tr>\n",
       "      <th>3</th>\n",
       "      <td>Take your self loathing to the dancefloor! 2 m...</td>\n",
       "      <td>Thu Nov 10 19:01:05 +0000 2022</td>\n",
       "      <td>2022-11-10 19:01:05+00:00</td>\n",
       "      <td>161916</td>\n",
       "      <td>[Photo(previewUrl='https://pbs.twimg.com/media...</td>\n",
       "      <td>['http://store.taylorswift.com']</td>\n",
       "      <td>11507</td>\n",
       "      <td>NaN</td>\n",
       "      <td>5755</td>\n",
       "      <td>17477</td>\n",
       "      <td>NaN</td>\n",
       "      <td>https://twitter.com/taylorswift13/status/15907...</td>\n",
       "      <td>1590781606918524929</td>\n",
       "      <td>1590781606918524929</td>\n",
       "    </tr>\n",
       "    <tr>\n",
       "      <th>4</th>\n",
       "      <td>The anti hero (Roosevelt remix) makes me feel ...</td>\n",
       "      <td>Wed Nov 09 22:21:38 +0000 2022</td>\n",
       "      <td>2022-11-09 22:21:38+00:00</td>\n",
       "      <td>111888</td>\n",
       "      <td>[Video(thumbnailUrl='https://pbs.twimg.com/ext...</td>\n",
       "      <td>['http://store.taylorswift.com']</td>\n",
       "      <td>1619</td>\n",
       "      <td>NaN</td>\n",
       "      <td>2434</td>\n",
       "      <td>13768</td>\n",
       "      <td>NaN</td>\n",
       "      <td>https://twitter.com/taylorswift13/status/15904...</td>\n",
       "      <td>1590469691864018945</td>\n",
       "      <td>1590469691864018945</td>\n",
       "    </tr>\n",
       "  </tbody>\n",
       "</table>\n",
       "</div>"
      ],
      "text/plain": [
       "                                             content  \\\n",
       "0  Thanks for all the beautiful wishes today!! I ...   \n",
       "1  @BBCR1 @DermotKennedy @BBCSounds WOW - Absolut...   \n",
       "2  Anti hero but make it acoustic 🥲\\n\\nNow at htt...   \n",
       "3  Take your self loathing to the dancefloor! 2 m...   \n",
       "4  The anti hero (Roosevelt remix) makes me feel ...   \n",
       "\n",
       "                       created_at                       date  likeCount  \\\n",
       "0  Tue Dec 13 23:07:26 +0000 2022  2022-12-13 23:07:26+00:00     602625   \n",
       "1  Tue Nov 15 17:17:51 +0000 2022  2022-11-15 17:17:51+00:00      32877   \n",
       "2  Fri Nov 11 00:31:01 +0000 2022  2022-11-11 00:31:01+00:00     228241   \n",
       "3  Thu Nov 10 19:01:05 +0000 2022  2022-11-10 19:01:05+00:00     161916   \n",
       "4  Wed Nov 09 22:21:38 +0000 2022  2022-11-09 22:21:38+00:00     111888   \n",
       "\n",
       "                                               media  \\\n",
       "0  [Photo(previewUrl='https://pbs.twimg.com/media...   \n",
       "1                                                NaN   \n",
       "2  [Photo(previewUrl='https://pbs.twimg.com/media...   \n",
       "3  [Photo(previewUrl='https://pbs.twimg.com/media...   \n",
       "4  [Video(thumbnailUrl='https://pbs.twimg.com/ext...   \n",
       "\n",
       "                           outlinks  quoteCount quotedTweet  replyCount  \\\n",
       "0                                []       24562         NaN       22331   \n",
       "1                                []        1708         NaN        2521   \n",
       "2  ['http://store.taylorswift.com']        8938         NaN        7083   \n",
       "3  ['http://store.taylorswift.com']       11507         NaN        5755   \n",
       "4  ['http://store.taylorswift.com']        1619         NaN        2434   \n",
       "\n",
       "   retweetCount  retweetedTweet  \\\n",
       "0         96825             NaN   \n",
       "1          3115             NaN   \n",
       "2         23829             NaN   \n",
       "3         17477             NaN   \n",
       "4         13768             NaN   \n",
       "\n",
       "                                                 url                   id  \\\n",
       "0  https://twitter.com/taylorswift13/status/16028...  1602802403492995072   \n",
       "1  https://twitter.com/taylorswift13/status/15925...  1592567568191356930   \n",
       "2  https://twitter.com/taylorswift13/status/15908...  1590864637356310528   \n",
       "3  https://twitter.com/taylorswift13/status/15907...  1590781606918524929   \n",
       "4  https://twitter.com/taylorswift13/status/15904...  1590469691864018945   \n",
       "\n",
       "        conversationId  \n",
       "0  1602802403492995072  \n",
       "1  1592503899759394818  \n",
       "2  1590864637356310528  \n",
       "3  1590781606918524929  \n",
       "4  1590469691864018945  "
      ]
     },
     "execution_count": 12,
     "metadata": {},
     "output_type": "execute_result"
    }
   ],
   "source": [
    "df = pd.read_csv(\"TaylorSwift13.csv\")\n",
    "df.head(5)"
   ]
  },
  {
   "cell_type": "code",
   "execution_count": 14,
   "id": "6fad95be-7e92-418a-990e-cbffae4d6527",
   "metadata": {},
   "outputs": [
    {
     "data": {
      "text/plain": [
       "(756, 14)"
      ]
     },
     "execution_count": 14,
     "metadata": {},
     "output_type": "execute_result"
    }
   ],
   "source": [
    "df.shape"
   ]
  },
  {
   "cell_type": "markdown",
   "id": "813d953c-cf0b-49a5-aeba-e4e0923e4336",
   "metadata": {},
   "source": [
    "### Mapping the columns"
   ]
  },
  {
   "cell_type": "code",
   "execution_count": 15,
   "id": "e3077bba",
   "metadata": {},
   "outputs": [],
   "source": [
    "def pick_column(candidates, columns):\n",
    "    lower = {c.lower(): c for c in columns}\n",
    "    for key in candidates:\n",
    "        if key.lower() in lower:\n",
    "            return lower[key.lower()]\n",
    "    return None"
   ]
  },
  {
   "cell_type": "code",
   "execution_count": 16,
   "id": "967d48ee-d974-401e-a4db-70b225854c6f",
   "metadata": {},
   "outputs": [],
   "source": [
    "text_col = pick_column(text_candidates, df.columns)"
   ]
  },
  {
   "cell_type": "code",
   "execution_count": 17,
   "id": "37ddbc7d-3308-4c3f-8047-d026c3db8c93",
   "metadata": {},
   "outputs": [],
   "source": [
    "time_col = pick_column(time_candidates, df.columns)"
   ]
  },
  {
   "cell_type": "code",
   "execution_count": 18,
   "id": "25c3e006-45e4-49bd-ba96-8659f80826c5",
   "metadata": {},
   "outputs": [],
   "source": [
    "if text_col is None:\n",
    "    raise ValueError(\"could not detect text column (expected e.g. 'content').\")\n",
    "if time_col is None:\n",
    "    raise ValueError(\"could not detect time column (expected 'created_at' or 'date').\")"
   ]
  },
  {
   "cell_type": "markdown",
   "id": "804e090d-5355-4963-80dc-031a2fbc4f31",
   "metadata": {},
   "source": [
    "### Standardizing the columns names"
   ]
  },
  {
   "cell_type": "code",
   "execution_count": 19,
   "id": "016f7e3b-858d-40a4-a137-82b287da638c",
   "metadata": {},
   "outputs": [],
   "source": [
    "df = df.rename(columns={text_col: \"text\"})"
   ]
  },
  {
   "cell_type": "code",
   "execution_count": 20,
   "id": "abe81601-625c-46cf-91e3-7a6615dc46e2",
   "metadata": {},
   "outputs": [],
   "source": [
    "if time_col != \"created_at\":\n",
    "    df[\"created_at\"] = df[time_col]"
   ]
  },
  {
   "cell_type": "code",
   "execution_count": 21,
   "id": "9d7957a3-b794-48b9-b1c4-7782d8968fec",
   "metadata": {},
   "outputs": [],
   "source": [
    "engagement_cols = [c for c in [\"likeCount\",\"retweetCount\",\"replyCount\",\"quoteCount\"] if c in df.columns]"
   ]
  },
  {
   "cell_type": "code",
   "execution_count": 22,
   "id": "42413c1c-bcf5-47dd-9d5a-854b8f8c9b08",
   "metadata": {},
   "outputs": [
    {
     "name": "stderr",
     "output_type": "stream",
     "text": [
      "C:\\Users\\anahi\\AppData\\Local\\Temp\\ipykernel_37392\\1802684772.py:1: UserWarning: Could not infer format, so each element will be parsed individually, falling back to `dateutil`. To ensure parsing is consistent and as-expected, please specify a format.\n",
      "  df[\"created_at\"] = pd.to_datetime(df[\"created_at\"], errors=\"coerce\", utc=True)\n"
     ]
    }
   ],
   "source": [
    "df[\"created_at\"] = pd.to_datetime(df[\"created_at\"], errors=\"coerce\", utc=True)"
   ]
  },
  {
   "cell_type": "code",
   "execution_count": 23,
   "id": "b480bbcb-9058-43d5-a98a-c2eb7261c401",
   "metadata": {},
   "outputs": [],
   "source": [
    "df = df.dropna(subset=[\"created_at\"])"
   ]
  },
  {
   "cell_type": "code",
   "execution_count": 24,
   "id": "46530e7d-99b6-445f-ad32-a8124b03367b",
   "metadata": {},
   "outputs": [
    {
     "name": "stdout",
     "output_type": "stream",
     "text": [
      "{'text_col': 'text', 'time_col': 'created_at', 'engagement_cols': ['likeCount', 'retweetCount', 'replyCount', 'quoteCount']}\n"
     ]
    }
   ],
   "source": [
    "print({\"text_col\": \"text\", \"time_col\": \"created_at\", \"engagement_cols\": engagement_cols})"
   ]
  },
  {
   "cell_type": "code",
   "execution_count": 25,
   "id": "da95e3c6-309d-42cc-bbb4-1de1811bcb21",
   "metadata": {},
   "outputs": [
    {
     "data": {
      "text/html": [
       "<div>\n",
       "<style scoped>\n",
       "    .dataframe tbody tr th:only-of-type {\n",
       "        vertical-align: middle;\n",
       "    }\n",
       "\n",
       "    .dataframe tbody tr th {\n",
       "        vertical-align: top;\n",
       "    }\n",
       "\n",
       "    .dataframe thead th {\n",
       "        text-align: right;\n",
       "    }\n",
       "</style>\n",
       "<table border=\"1\" class=\"dataframe\">\n",
       "  <thead>\n",
       "    <tr style=\"text-align: right;\">\n",
       "      <th></th>\n",
       "      <th>text</th>\n",
       "      <th>created_at</th>\n",
       "      <th>likeCount</th>\n",
       "      <th>retweetCount</th>\n",
       "    </tr>\n",
       "  </thead>\n",
       "  <tbody>\n",
       "    <tr>\n",
       "      <th>0</th>\n",
       "      <td>Thanks for all the beautiful wishes today!! I ...</td>\n",
       "      <td>2022-12-13 23:07:26+00:00</td>\n",
       "      <td>602625</td>\n",
       "      <td>96825</td>\n",
       "    </tr>\n",
       "    <tr>\n",
       "      <th>1</th>\n",
       "      <td>@BBCR1 @DermotKennedy @BBCSounds WOW - Absolut...</td>\n",
       "      <td>2022-11-15 17:17:51+00:00</td>\n",
       "      <td>32877</td>\n",
       "      <td>3115</td>\n",
       "    </tr>\n",
       "    <tr>\n",
       "      <th>2</th>\n",
       "      <td>Anti hero but make it acoustic 🥲\\n\\nNow at htt...</td>\n",
       "      <td>2022-11-11 00:31:01+00:00</td>\n",
       "      <td>228241</td>\n",
       "      <td>23829</td>\n",
       "    </tr>\n",
       "    <tr>\n",
       "      <th>3</th>\n",
       "      <td>Take your self loathing to the dancefloor! 2 m...</td>\n",
       "      <td>2022-11-10 19:01:05+00:00</td>\n",
       "      <td>161916</td>\n",
       "      <td>17477</td>\n",
       "    </tr>\n",
       "    <tr>\n",
       "      <th>4</th>\n",
       "      <td>The anti hero (Roosevelt remix) makes me feel ...</td>\n",
       "      <td>2022-11-09 22:21:38+00:00</td>\n",
       "      <td>111888</td>\n",
       "      <td>13768</td>\n",
       "    </tr>\n",
       "  </tbody>\n",
       "</table>\n",
       "</div>"
      ],
      "text/plain": [
       "                                                text  \\\n",
       "0  Thanks for all the beautiful wishes today!! I ...   \n",
       "1  @BBCR1 @DermotKennedy @BBCSounds WOW - Absolut...   \n",
       "2  Anti hero but make it acoustic 🥲\\n\\nNow at htt...   \n",
       "3  Take your self loathing to the dancefloor! 2 m...   \n",
       "4  The anti hero (Roosevelt remix) makes me feel ...   \n",
       "\n",
       "                 created_at  likeCount  retweetCount  \n",
       "0 2022-12-13 23:07:26+00:00     602625         96825  \n",
       "1 2022-11-15 17:17:51+00:00      32877          3115  \n",
       "2 2022-11-11 00:31:01+00:00     228241         23829  \n",
       "3 2022-11-10 19:01:05+00:00     161916         17477  \n",
       "4 2022-11-09 22:21:38+00:00     111888         13768  "
      ]
     },
     "execution_count": 25,
     "metadata": {},
     "output_type": "execute_result"
    }
   ],
   "source": [
    "df[[\"text\",\"created_at\"] + engagement_cols[:2]].head(5)"
   ]
  },
  {
   "cell_type": "markdown",
   "id": "146796fd-2013-4a37-b2e0-d82ca9daa6a4",
   "metadata": {},
   "source": [
    "## Cleaning the text"
   ]
  },
  {
   "cell_type": "code",
   "execution_count": 26,
   "id": "564f2057",
   "metadata": {},
   "outputs": [],
   "source": [
    "url_re = re.compile(r\"https?://\\S+\")"
   ]
  },
  {
   "cell_type": "code",
   "execution_count": 27,
   "id": "4532db60-0eb4-4341-8177-5fec9da30d42",
   "metadata": {},
   "outputs": [],
   "source": [
    "mention_re = re.compile(r\"@([A-Za-z0-9_]+)\")"
   ]
  },
  {
   "cell_type": "code",
   "execution_count": 28,
   "id": "6dcd1599-1790-4571-b038-081fe22e53b9",
   "metadata": {},
   "outputs": [],
   "source": [
    "def clean_text(x: str) -> str:\n",
    "    x = str(x)\n",
    "    x = url_re.sub(\" \", x)\n",
    "    x = re.sub(r\"\\s+\", \" \", x).strip()\n",
    "    return x"
   ]
  },
  {
   "cell_type": "code",
   "execution_count": 29,
   "id": "49a2fca1-d415-4e60-a55f-7d24e38ceec7",
   "metadata": {},
   "outputs": [],
   "source": [
    "df[\"text_clean\"] = df[\"text\"].map(clean_text)"
   ]
  },
  {
   "cell_type": "code",
   "execution_count": 30,
   "id": "81a44f4e-570d-46b9-a217-3516b36c4e27",
   "metadata": {},
   "outputs": [],
   "source": [
    "df[\"mentions\"] = df[\"text\"].map(lambda t: mention_re.findall(str(t)))"
   ]
  },
  {
   "cell_type": "code",
   "execution_count": 31,
   "id": "a8567072-742f-4fc8-805c-078f6de8de7d",
   "metadata": {},
   "outputs": [
    {
     "data": {
      "text/html": [
       "<div>\n",
       "<style scoped>\n",
       "    .dataframe tbody tr th:only-of-type {\n",
       "        vertical-align: middle;\n",
       "    }\n",
       "\n",
       "    .dataframe tbody tr th {\n",
       "        vertical-align: top;\n",
       "    }\n",
       "\n",
       "    .dataframe thead th {\n",
       "        text-align: right;\n",
       "    }\n",
       "</style>\n",
       "<table border=\"1\" class=\"dataframe\">\n",
       "  <thead>\n",
       "    <tr style=\"text-align: right;\">\n",
       "      <th></th>\n",
       "      <th>text</th>\n",
       "      <th>created_at</th>\n",
       "      <th>date</th>\n",
       "      <th>likeCount</th>\n",
       "      <th>media</th>\n",
       "      <th>outlinks</th>\n",
       "      <th>quoteCount</th>\n",
       "      <th>quotedTweet</th>\n",
       "      <th>replyCount</th>\n",
       "      <th>retweetCount</th>\n",
       "      <th>retweetedTweet</th>\n",
       "      <th>url</th>\n",
       "      <th>id</th>\n",
       "      <th>conversationId</th>\n",
       "      <th>text_clean</th>\n",
       "      <th>mentions</th>\n",
       "    </tr>\n",
       "  </thead>\n",
       "  <tbody>\n",
       "    <tr>\n",
       "      <th>0</th>\n",
       "      <td>Thanks for all the beautiful wishes today!! I ...</td>\n",
       "      <td>2022-12-13 23:07:26+00:00</td>\n",
       "      <td>2022-12-13 23:07:26+00:00</td>\n",
       "      <td>602625</td>\n",
       "      <td>[Photo(previewUrl='https://pbs.twimg.com/media...</td>\n",
       "      <td>[]</td>\n",
       "      <td>24562</td>\n",
       "      <td>NaN</td>\n",
       "      <td>22331</td>\n",
       "      <td>96825</td>\n",
       "      <td>NaN</td>\n",
       "      <td>https://twitter.com/taylorswift13/status/16028...</td>\n",
       "      <td>1602802403492995072</td>\n",
       "      <td>1602802403492995072</td>\n",
       "      <td>Thanks for all the beautiful wishes today!! I ...</td>\n",
       "      <td>[]</td>\n",
       "    </tr>\n",
       "    <tr>\n",
       "      <th>1</th>\n",
       "      <td>@BBCR1 @DermotKennedy @BBCSounds WOW - Absolut...</td>\n",
       "      <td>2022-11-15 17:17:51+00:00</td>\n",
       "      <td>2022-11-15 17:17:51+00:00</td>\n",
       "      <td>32877</td>\n",
       "      <td>NaN</td>\n",
       "      <td>[]</td>\n",
       "      <td>1708</td>\n",
       "      <td>NaN</td>\n",
       "      <td>2521</td>\n",
       "      <td>3115</td>\n",
       "      <td>NaN</td>\n",
       "      <td>https://twitter.com/taylorswift13/status/15925...</td>\n",
       "      <td>1592567568191356930</td>\n",
       "      <td>1592503899759394818</td>\n",
       "      <td>@BBCR1 @DermotKennedy @BBCSounds WOW - Absolut...</td>\n",
       "      <td>[BBCR1, DermotKennedy, BBCSounds]</td>\n",
       "    </tr>\n",
       "    <tr>\n",
       "      <th>2</th>\n",
       "      <td>Anti hero but make it acoustic 🥲\\n\\nNow at htt...</td>\n",
       "      <td>2022-11-11 00:31:01+00:00</td>\n",
       "      <td>2022-11-11 00:31:01+00:00</td>\n",
       "      <td>228241</td>\n",
       "      <td>[Photo(previewUrl='https://pbs.twimg.com/media...</td>\n",
       "      <td>['http://store.taylorswift.com']</td>\n",
       "      <td>8938</td>\n",
       "      <td>NaN</td>\n",
       "      <td>7083</td>\n",
       "      <td>23829</td>\n",
       "      <td>NaN</td>\n",
       "      <td>https://twitter.com/taylorswift13/status/15908...</td>\n",
       "      <td>1590864637356310528</td>\n",
       "      <td>1590864637356310528</td>\n",
       "      <td>Anti hero but make it acoustic 🥲 Now at</td>\n",
       "      <td>[]</td>\n",
       "    </tr>\n",
       "    <tr>\n",
       "      <th>3</th>\n",
       "      <td>Take your self loathing to the dancefloor! 2 m...</td>\n",
       "      <td>2022-11-10 19:01:05+00:00</td>\n",
       "      <td>2022-11-10 19:01:05+00:00</td>\n",
       "      <td>161916</td>\n",
       "      <td>[Photo(previewUrl='https://pbs.twimg.com/media...</td>\n",
       "      <td>['http://store.taylorswift.com']</td>\n",
       "      <td>11507</td>\n",
       "      <td>NaN</td>\n",
       "      <td>5755</td>\n",
       "      <td>17477</td>\n",
       "      <td>NaN</td>\n",
       "      <td>https://twitter.com/taylorswift13/status/15907...</td>\n",
       "      <td>1590781606918524929</td>\n",
       "      <td>1590781606918524929</td>\n",
       "      <td>Take your self loathing to the dancefloor! 2 m...</td>\n",
       "      <td>[]</td>\n",
       "    </tr>\n",
       "    <tr>\n",
       "      <th>4</th>\n",
       "      <td>The anti hero (Roosevelt remix) makes me feel ...</td>\n",
       "      <td>2022-11-09 22:21:38+00:00</td>\n",
       "      <td>2022-11-09 22:21:38+00:00</td>\n",
       "      <td>111888</td>\n",
       "      <td>[Video(thumbnailUrl='https://pbs.twimg.com/ext...</td>\n",
       "      <td>['http://store.taylorswift.com']</td>\n",
       "      <td>1619</td>\n",
       "      <td>NaN</td>\n",
       "      <td>2434</td>\n",
       "      <td>13768</td>\n",
       "      <td>NaN</td>\n",
       "      <td>https://twitter.com/taylorswift13/status/15904...</td>\n",
       "      <td>1590469691864018945</td>\n",
       "      <td>1590469691864018945</td>\n",
       "      <td>The anti hero (Roosevelt remix) makes me feel ...</td>\n",
       "      <td>[]</td>\n",
       "    </tr>\n",
       "  </tbody>\n",
       "</table>\n",
       "</div>"
      ],
      "text/plain": [
       "                                                text  \\\n",
       "0  Thanks for all the beautiful wishes today!! I ...   \n",
       "1  @BBCR1 @DermotKennedy @BBCSounds WOW - Absolut...   \n",
       "2  Anti hero but make it acoustic 🥲\\n\\nNow at htt...   \n",
       "3  Take your self loathing to the dancefloor! 2 m...   \n",
       "4  The anti hero (Roosevelt remix) makes me feel ...   \n",
       "\n",
       "                 created_at                       date  likeCount  \\\n",
       "0 2022-12-13 23:07:26+00:00  2022-12-13 23:07:26+00:00     602625   \n",
       "1 2022-11-15 17:17:51+00:00  2022-11-15 17:17:51+00:00      32877   \n",
       "2 2022-11-11 00:31:01+00:00  2022-11-11 00:31:01+00:00     228241   \n",
       "3 2022-11-10 19:01:05+00:00  2022-11-10 19:01:05+00:00     161916   \n",
       "4 2022-11-09 22:21:38+00:00  2022-11-09 22:21:38+00:00     111888   \n",
       "\n",
       "                                               media  \\\n",
       "0  [Photo(previewUrl='https://pbs.twimg.com/media...   \n",
       "1                                                NaN   \n",
       "2  [Photo(previewUrl='https://pbs.twimg.com/media...   \n",
       "3  [Photo(previewUrl='https://pbs.twimg.com/media...   \n",
       "4  [Video(thumbnailUrl='https://pbs.twimg.com/ext...   \n",
       "\n",
       "                           outlinks  quoteCount quotedTweet  replyCount  \\\n",
       "0                                []       24562         NaN       22331   \n",
       "1                                []        1708         NaN        2521   \n",
       "2  ['http://store.taylorswift.com']        8938         NaN        7083   \n",
       "3  ['http://store.taylorswift.com']       11507         NaN        5755   \n",
       "4  ['http://store.taylorswift.com']        1619         NaN        2434   \n",
       "\n",
       "   retweetCount  retweetedTweet  \\\n",
       "0         96825             NaN   \n",
       "1          3115             NaN   \n",
       "2         23829             NaN   \n",
       "3         17477             NaN   \n",
       "4         13768             NaN   \n",
       "\n",
       "                                                 url                   id  \\\n",
       "0  https://twitter.com/taylorswift13/status/16028...  1602802403492995072   \n",
       "1  https://twitter.com/taylorswift13/status/15925...  1592567568191356930   \n",
       "2  https://twitter.com/taylorswift13/status/15908...  1590864637356310528   \n",
       "3  https://twitter.com/taylorswift13/status/15907...  1590781606918524929   \n",
       "4  https://twitter.com/taylorswift13/status/15904...  1590469691864018945   \n",
       "\n",
       "        conversationId                                         text_clean  \\\n",
       "0  1602802403492995072  Thanks for all the beautiful wishes today!! I ...   \n",
       "1  1592503899759394818  @BBCR1 @DermotKennedy @BBCSounds WOW - Absolut...   \n",
       "2  1590864637356310528            Anti hero but make it acoustic 🥲 Now at   \n",
       "3  1590781606918524929  Take your self loathing to the dancefloor! 2 m...   \n",
       "4  1590469691864018945  The anti hero (Roosevelt remix) makes me feel ...   \n",
       "\n",
       "                            mentions  \n",
       "0                                 []  \n",
       "1  [BBCR1, DermotKennedy, BBCSounds]  \n",
       "2                                 []  \n",
       "3                                 []  \n",
       "4                                 []  "
      ]
     },
     "execution_count": 31,
     "metadata": {},
     "output_type": "execute_result"
    }
   ],
   "source": [
    "df.head(5)"
   ]
  },
  {
   "cell_type": "markdown",
   "id": "b41e8b3f-2592-4807-b629-8bde843fa4ac",
   "metadata": {},
   "source": [
    "### Sentimenting"
   ]
  },
  {
   "cell_type": "code",
   "execution_count": 32,
   "id": "3ebd0668",
   "metadata": {},
   "outputs": [],
   "source": [
    "def rule_based_sentiment(text: str) -> float:\n",
    "    pos_words = set(\"\"\"good great excellent amazing love loved like awesome wonderful happy joy wow superb fantastic brilliant best favorite \n",
    "                 superbly delightful satisfying positive success win winning shine strong energetic boost calm peace sweet cute\"\"\".split())\n",
    "    neg_words = set(\"\"\"bad terrible awful hate hated worst boring sad angry fear upset mad sick annoying fail failing weak dull poor negative \n",
    "                 disaster bug broken cry crisis scandal problem pain\"\"\".split())\n",
    "    words = re.findall(r\"[a-zA-Z']+\", str(text).lower())\n",
    "    if not words:\n",
    "        return 0.0\n",
    "    pos = sum(1 for w in words if w in pos_words)\n",
    "    neg = sum(1 for w in words if w in neg_words)\n",
    "    return max(-1.0, min(1.0, (pos - neg) / max(1, math.sqrt(len(words)))))"
   ]
  },
  {
   "cell_type": "code",
   "execution_count": 33,
   "id": "fda16f94-a45c-4564-a059-bc02f0de5710",
   "metadata": {},
   "outputs": [],
   "source": [
    "def compute_sentiment(series):\n",
    "    use_vader, sia = False, None\n",
    "    if nltk_vader_available and nltk is not None:\n",
    "        try:\n",
    "            sia = SentimentIntensityAnalyzer()\n",
    "            use_vader = True\n",
    "        except Exception:\n",
    "            try:\n",
    "                nltk.download('vader_lexicon', quiet=True)\n",
    "                sia = SentimentIntensityAnalyzer()\n",
    "                use_vader = True\n",
    "            except Exception:\n",
    "                use_vader = False\n",
    "    if use_vader:\n",
    "        print(\"sentiment: using nltk vader\")\n",
    "        return series.astype(str).map(lambda t: sia.polarity_scores(t)['compound'])\n",
    "    else:\n",
    "        print(\"sentiment: using rule-based fallback (no downloads required)\")\n",
    "        return series.astype(str).map(rule_based_sentiment)"
   ]
  },
  {
   "cell_type": "code",
   "execution_count": 34,
   "id": "455db5d5-d8db-4ef2-afca-4ae312681352",
   "metadata": {},
   "outputs": [
    {
     "name": "stdout",
     "output_type": "stream",
     "text": [
      "sentiment: using nltk vader\n"
     ]
    }
   ],
   "source": [
    "df[\"sentiment_score\"] = compute_sentiment(df[\"text_clean\"])"
   ]
  },
  {
   "cell_type": "code",
   "execution_count": 35,
   "id": "5bbcda6c-81a5-4a0a-bc05-9c762f623417",
   "metadata": {},
   "outputs": [],
   "source": [
    "df[\"sentiment_label\"] = pd.cut(df[\"sentiment_score\"], bins=[-1.0, -0.05, 0.05, 1.0],labels=[\"negative\",\"neutral\",\"positive\"])"
   ]
  },
  {
   "cell_type": "code",
   "execution_count": 36,
   "id": "705252b1-27bc-45c9-84ad-438e9331ea87",
   "metadata": {},
   "outputs": [
    {
     "data": {
      "text/html": [
       "<div>\n",
       "<style scoped>\n",
       "    .dataframe tbody tr th:only-of-type {\n",
       "        vertical-align: middle;\n",
       "    }\n",
       "\n",
       "    .dataframe tbody tr th {\n",
       "        vertical-align: top;\n",
       "    }\n",
       "\n",
       "    .dataframe thead th {\n",
       "        text-align: right;\n",
       "    }\n",
       "</style>\n",
       "<table border=\"1\" class=\"dataframe\">\n",
       "  <thead>\n",
       "    <tr style=\"text-align: right;\">\n",
       "      <th></th>\n",
       "      <th>text_clean</th>\n",
       "      <th>sentiment_score</th>\n",
       "      <th>sentiment_label</th>\n",
       "    </tr>\n",
       "  </thead>\n",
       "  <tbody>\n",
       "    <tr>\n",
       "      <th>0</th>\n",
       "      <td>Thanks for all the beautiful wishes today!! I ...</td>\n",
       "      <td>0.9257</td>\n",
       "      <td>positive</td>\n",
       "    </tr>\n",
       "    <tr>\n",
       "      <th>1</th>\n",
       "      <td>@BBCR1 @DermotKennedy @BBCSounds WOW - Absolut...</td>\n",
       "      <td>0.8758</td>\n",
       "      <td>positive</td>\n",
       "    </tr>\n",
       "    <tr>\n",
       "      <th>2</th>\n",
       "      <td>Anti hero but make it acoustic 🥲 Now at</td>\n",
       "      <td>0.1655</td>\n",
       "      <td>positive</td>\n",
       "    </tr>\n",
       "    <tr>\n",
       "      <th>3</th>\n",
       "      <td>Take your self loathing to the dancefloor! 2 m...</td>\n",
       "      <td>-0.4032</td>\n",
       "      <td>negative</td>\n",
       "    </tr>\n",
       "    <tr>\n",
       "      <th>4</th>\n",
       "      <td>The anti hero (Roosevelt remix) makes me feel ...</td>\n",
       "      <td>-0.1260</td>\n",
       "      <td>negative</td>\n",
       "    </tr>\n",
       "  </tbody>\n",
       "</table>\n",
       "</div>"
      ],
      "text/plain": [
       "                                          text_clean  sentiment_score  \\\n",
       "0  Thanks for all the beautiful wishes today!! I ...           0.9257   \n",
       "1  @BBCR1 @DermotKennedy @BBCSounds WOW - Absolut...           0.8758   \n",
       "2            Anti hero but make it acoustic 🥲 Now at           0.1655   \n",
       "3  Take your self loathing to the dancefloor! 2 m...          -0.4032   \n",
       "4  The anti hero (Roosevelt remix) makes me feel ...          -0.1260   \n",
       "\n",
       "  sentiment_label  \n",
       "0        positive  \n",
       "1        positive  \n",
       "2        positive  \n",
       "3        negative  \n",
       "4        negative  "
      ]
     },
     "execution_count": 36,
     "metadata": {},
     "output_type": "execute_result"
    }
   ],
   "source": [
    "df[[\"text_clean\",\"sentiment_score\",\"sentiment_label\"]].head(5)"
   ]
  },
  {
   "cell_type": "markdown",
   "id": "56fd8633-fb05-417b-83e8-6fcd1ad3d73f",
   "metadata": {},
   "source": [
    "### Trend forecasting"
   ]
  },
  {
   "cell_type": "code",
   "execution_count": 37,
   "id": "5c769bb4",
   "metadata": {},
   "outputs": [],
   "source": [
    "daily = (df.set_index(\"created_at\").resample(\"D\")\n",
    "           .agg(**{\n",
    "               \"tweets\": (\"text\",\"count\"),\n",
    "               \"avg_sentiment\": (\"sentiment_score\",\"mean\"),\n",
    "               **({\"likes_sum\": (\"likeCount\",\"sum\")} if \"likeCount\" in df.columns else {}),\n",
    "               **({\"retweets_sum\": (\"retweetCount\",\"sum\")} if \"retweetCount\" in df.columns else {}),\n",
    "               **({\"replies_sum\": (\"replyCount\",\"sum\")} if \"replyCount\" in df.columns else {})\n",
    "           })\n",
    "           .fillna(0))"
   ]
  },
  {
   "cell_type": "code",
   "execution_count": 38,
   "id": "ba986801-f15c-4204-b3dc-2fe886b0b12f",
   "metadata": {},
   "outputs": [],
   "source": [
    "forecast = None"
   ]
  },
  {
   "cell_type": "code",
   "execution_count": 40,
   "id": "867ffc17-e58e-4ad8-bf00-370c7de1e308",
   "metadata": {},
   "outputs": [
    {
     "name": "stdout",
     "output_type": "stream",
     "text": [
      "Arima not available or insufficient data; skipping forecast.\n"
     ]
    }
   ],
   "source": [
    "if statsmodels_available and len(daily) >= 7 and daily[\"tweets\"].sum() > 0:\n",
    "    try:\n",
    "        series = daily[\"tweets\"]\n",
    "        model = ARIMA(series, order=(1,1,1))\n",
    "        res = model.fit()\n",
    "        forecast_vals = res.forecast(steps=7)\n",
    "        forecast = forecast_vals.rename(\"tweets_forecast\").to_frame()\n",
    "        forecast.index.name = \"date\"\n",
    "        print(\"Arima forecast ready (7 days).\")\n",
    "    except Exception as e:\n",
    "        print(\"Arima failed:\", e)\n",
    "else:\n",
    "    print(\"Arima not available or insufficient data; skipping forecast.\")"
   ]
  },
  {
   "cell_type": "code",
   "execution_count": 41,
   "id": "3f5e007a-06e7-4aa1-a3ef-a60cfeefff02",
   "metadata": {},
   "outputs": [
    {
     "data": {
      "text/html": [
       "<div>\n",
       "<style scoped>\n",
       "    .dataframe tbody tr th:only-of-type {\n",
       "        vertical-align: middle;\n",
       "    }\n",
       "\n",
       "    .dataframe tbody tr th {\n",
       "        vertical-align: top;\n",
       "    }\n",
       "\n",
       "    .dataframe thead th {\n",
       "        text-align: right;\n",
       "    }\n",
       "</style>\n",
       "<table border=\"1\" class=\"dataframe\">\n",
       "  <thead>\n",
       "    <tr style=\"text-align: right;\">\n",
       "      <th></th>\n",
       "      <th>tweets</th>\n",
       "      <th>avg_sentiment</th>\n",
       "      <th>likes_sum</th>\n",
       "      <th>retweets_sum</th>\n",
       "      <th>replies_sum</th>\n",
       "    </tr>\n",
       "    <tr>\n",
       "      <th>created_at</th>\n",
       "      <th></th>\n",
       "      <th></th>\n",
       "      <th></th>\n",
       "      <th></th>\n",
       "      <th></th>\n",
       "    </tr>\n",
       "  </thead>\n",
       "  <tbody>\n",
       "    <tr>\n",
       "      <th>2009-03-17 00:00:00+00:00</th>\n",
       "      <td>6</td>\n",
       "      <td>0.3437</td>\n",
       "      <td>1786</td>\n",
       "      <td>1099</td>\n",
       "      <td>128</td>\n",
       "    </tr>\n",
       "    <tr>\n",
       "      <th>2009-03-18 00:00:00+00:00</th>\n",
       "      <td>0</td>\n",
       "      <td>0.0000</td>\n",
       "      <td>0</td>\n",
       "      <td>0</td>\n",
       "      <td>0</td>\n",
       "    </tr>\n",
       "    <tr>\n",
       "      <th>2009-03-19 00:00:00+00:00</th>\n",
       "      <td>0</td>\n",
       "      <td>0.0000</td>\n",
       "      <td>0</td>\n",
       "      <td>0</td>\n",
       "      <td>0</td>\n",
       "    </tr>\n",
       "    <tr>\n",
       "      <th>2009-03-20 00:00:00+00:00</th>\n",
       "      <td>0</td>\n",
       "      <td>0.0000</td>\n",
       "      <td>0</td>\n",
       "      <td>0</td>\n",
       "      <td>0</td>\n",
       "    </tr>\n",
       "    <tr>\n",
       "      <th>2009-03-21 00:00:00+00:00</th>\n",
       "      <td>0</td>\n",
       "      <td>0.0000</td>\n",
       "      <td>0</td>\n",
       "      <td>0</td>\n",
       "      <td>0</td>\n",
       "    </tr>\n",
       "  </tbody>\n",
       "</table>\n",
       "</div>"
      ],
      "text/plain": [
       "                           tweets  avg_sentiment  likes_sum  retweets_sum  \\\n",
       "created_at                                                                  \n",
       "2009-03-17 00:00:00+00:00       6         0.3437       1786          1099   \n",
       "2009-03-18 00:00:00+00:00       0         0.0000          0             0   \n",
       "2009-03-19 00:00:00+00:00       0         0.0000          0             0   \n",
       "2009-03-20 00:00:00+00:00       0         0.0000          0             0   \n",
       "2009-03-21 00:00:00+00:00       0         0.0000          0             0   \n",
       "\n",
       "                           replies_sum  \n",
       "created_at                              \n",
       "2009-03-17 00:00:00+00:00          128  \n",
       "2009-03-18 00:00:00+00:00            0  \n",
       "2009-03-19 00:00:00+00:00            0  \n",
       "2009-03-20 00:00:00+00:00            0  \n",
       "2009-03-21 00:00:00+00:00            0  "
      ]
     },
     "execution_count": 41,
     "metadata": {},
     "output_type": "execute_result"
    }
   ],
   "source": [
    "daily.head(5)"
   ]
  },
  {
   "cell_type": "markdown",
   "id": "9e4cdb6c-2af1-40ba-8b1a-9bde43a94b3d",
   "metadata": {},
   "source": [
    "## Topic Modeling"
   ]
  },
  {
   "cell_type": "code",
   "execution_count": 44,
   "id": "8e12bb2b",
   "metadata": {},
   "outputs": [],
   "source": [
    "topics_daily = None"
   ]
  },
  {
   "cell_type": "code",
   "execution_count": 45,
   "id": "5e6d7140-ec93-42c6-acce-38dd4ef51a8d",
   "metadata": {},
   "outputs": [],
   "source": [
    "n_topics = 6"
   ]
  },
  {
   "cell_type": "code",
   "execution_count": 46,
   "id": "1a166794-56fe-4503-a3fa-825c01072263",
   "metadata": {},
   "outputs": [
    {
     "name": "stdout",
     "output_type": "stream",
     "text": [
      "lda completed with 6 topics.\n"
     ]
    }
   ],
   "source": [
    "if sklearn_available:\n",
    "    try:\n",
    "        cv = CountVectorizer(min_df=3, max_df=0.8, stop_words=\"english\")\n",
    "        X = cv.fit_transform(df[\"text_clean\"].astype(str))\n",
    "        lda = LatentDirichletAllocation(n_components=n_topics, learning_method=\"online\", random_state=42)\n",
    "        theta = lda.fit_transform(X)\n",
    "        import numpy as np\n",
    "        df[\"topic_dominant\"] = np.argmax(theta, axis=1)\n",
    "\n",
    "        tmp = df[[\"created_at\"]].copy()\n",
    "        tmp[\"date\"] = tmp[\"created_at\"].dt.date\n",
    "        topics_daily = pd.DataFrame(theta).assign(date=tmp[\"date\"]).groupby(\"date\").mean().reset_index()\n",
    "        print(\"lda completed with\", n_topics, \"topics.\")\n",
    "    except Exception as e:\n",
    "        print(\"lda failed:\", e)\n",
    "else:\n",
    "    print(\"sklearn not available; skipping lda.\")"
   ]
  },
  {
   "cell_type": "code",
   "execution_count": 47,
   "id": "5fc91fcc-e07e-46e7-930c-9aefd55abbb7",
   "metadata": {},
   "outputs": [
    {
     "data": {
      "text/html": [
       "<div>\n",
       "<style scoped>\n",
       "    .dataframe tbody tr th:only-of-type {\n",
       "        vertical-align: middle;\n",
       "    }\n",
       "\n",
       "    .dataframe tbody tr th {\n",
       "        vertical-align: top;\n",
       "    }\n",
       "\n",
       "    .dataframe thead th {\n",
       "        text-align: right;\n",
       "    }\n",
       "</style>\n",
       "<table border=\"1\" class=\"dataframe\">\n",
       "  <thead>\n",
       "    <tr style=\"text-align: right;\">\n",
       "      <th></th>\n",
       "      <th>text</th>\n",
       "      <th>created_at</th>\n",
       "      <th>date</th>\n",
       "      <th>likeCount</th>\n",
       "      <th>media</th>\n",
       "      <th>outlinks</th>\n",
       "      <th>quoteCount</th>\n",
       "      <th>quotedTweet</th>\n",
       "      <th>replyCount</th>\n",
       "      <th>retweetCount</th>\n",
       "      <th>retweetedTweet</th>\n",
       "      <th>url</th>\n",
       "      <th>id</th>\n",
       "      <th>conversationId</th>\n",
       "      <th>text_clean</th>\n",
       "      <th>mentions</th>\n",
       "      <th>sentiment_score</th>\n",
       "      <th>sentiment_label</th>\n",
       "      <th>topic_dominant</th>\n",
       "    </tr>\n",
       "  </thead>\n",
       "  <tbody>\n",
       "    <tr>\n",
       "      <th>0</th>\n",
       "      <td>Thanks for all the beautiful wishes today!! I ...</td>\n",
       "      <td>2022-12-13 23:07:26+00:00</td>\n",
       "      <td>2022-12-13 23:07:26+00:00</td>\n",
       "      <td>602625</td>\n",
       "      <td>[Photo(previewUrl='https://pbs.twimg.com/media...</td>\n",
       "      <td>[]</td>\n",
       "      <td>24562</td>\n",
       "      <td>NaN</td>\n",
       "      <td>22331</td>\n",
       "      <td>96825</td>\n",
       "      <td>NaN</td>\n",
       "      <td>https://twitter.com/taylorswift13/status/16028...</td>\n",
       "      <td>1602802403492995072</td>\n",
       "      <td>1602802403492995072</td>\n",
       "      <td>Thanks for all the beautiful wishes today!! I ...</td>\n",
       "      <td>[]</td>\n",
       "      <td>0.9257</td>\n",
       "      <td>positive</td>\n",
       "      <td>4</td>\n",
       "    </tr>\n",
       "    <tr>\n",
       "      <th>1</th>\n",
       "      <td>@BBCR1 @DermotKennedy @BBCSounds WOW - Absolut...</td>\n",
       "      <td>2022-11-15 17:17:51+00:00</td>\n",
       "      <td>2022-11-15 17:17:51+00:00</td>\n",
       "      <td>32877</td>\n",
       "      <td>NaN</td>\n",
       "      <td>[]</td>\n",
       "      <td>1708</td>\n",
       "      <td>NaN</td>\n",
       "      <td>2521</td>\n",
       "      <td>3115</td>\n",
       "      <td>NaN</td>\n",
       "      <td>https://twitter.com/taylorswift13/status/15925...</td>\n",
       "      <td>1592567568191356930</td>\n",
       "      <td>1592503899759394818</td>\n",
       "      <td>@BBCR1 @DermotKennedy @BBCSounds WOW - Absolut...</td>\n",
       "      <td>[BBCR1, DermotKennedy, BBCSounds]</td>\n",
       "      <td>0.8758</td>\n",
       "      <td>positive</td>\n",
       "      <td>1</td>\n",
       "    </tr>\n",
       "    <tr>\n",
       "      <th>2</th>\n",
       "      <td>Anti hero but make it acoustic 🥲\\n\\nNow at htt...</td>\n",
       "      <td>2022-11-11 00:31:01+00:00</td>\n",
       "      <td>2022-11-11 00:31:01+00:00</td>\n",
       "      <td>228241</td>\n",
       "      <td>[Photo(previewUrl='https://pbs.twimg.com/media...</td>\n",
       "      <td>['http://store.taylorswift.com']</td>\n",
       "      <td>8938</td>\n",
       "      <td>NaN</td>\n",
       "      <td>7083</td>\n",
       "      <td>23829</td>\n",
       "      <td>NaN</td>\n",
       "      <td>https://twitter.com/taylorswift13/status/15908...</td>\n",
       "      <td>1590864637356310528</td>\n",
       "      <td>1590864637356310528</td>\n",
       "      <td>Anti hero but make it acoustic 🥲 Now at</td>\n",
       "      <td>[]</td>\n",
       "      <td>0.1655</td>\n",
       "      <td>positive</td>\n",
       "      <td>1</td>\n",
       "    </tr>\n",
       "    <tr>\n",
       "      <th>3</th>\n",
       "      <td>Take your self loathing to the dancefloor! 2 m...</td>\n",
       "      <td>2022-11-10 19:01:05+00:00</td>\n",
       "      <td>2022-11-10 19:01:05+00:00</td>\n",
       "      <td>161916</td>\n",
       "      <td>[Photo(previewUrl='https://pbs.twimg.com/media...</td>\n",
       "      <td>['http://store.taylorswift.com']</td>\n",
       "      <td>11507</td>\n",
       "      <td>NaN</td>\n",
       "      <td>5755</td>\n",
       "      <td>17477</td>\n",
       "      <td>NaN</td>\n",
       "      <td>https://twitter.com/taylorswift13/status/15907...</td>\n",
       "      <td>1590781606918524929</td>\n",
       "      <td>1590781606918524929</td>\n",
       "      <td>Take your self loathing to the dancefloor! 2 m...</td>\n",
       "      <td>[]</td>\n",
       "      <td>-0.4032</td>\n",
       "      <td>negative</td>\n",
       "      <td>1</td>\n",
       "    </tr>\n",
       "    <tr>\n",
       "      <th>4</th>\n",
       "      <td>The anti hero (Roosevelt remix) makes me feel ...</td>\n",
       "      <td>2022-11-09 22:21:38+00:00</td>\n",
       "      <td>2022-11-09 22:21:38+00:00</td>\n",
       "      <td>111888</td>\n",
       "      <td>[Video(thumbnailUrl='https://pbs.twimg.com/ext...</td>\n",
       "      <td>['http://store.taylorswift.com']</td>\n",
       "      <td>1619</td>\n",
       "      <td>NaN</td>\n",
       "      <td>2434</td>\n",
       "      <td>13768</td>\n",
       "      <td>NaN</td>\n",
       "      <td>https://twitter.com/taylorswift13/status/15904...</td>\n",
       "      <td>1590469691864018945</td>\n",
       "      <td>1590469691864018945</td>\n",
       "      <td>The anti hero (Roosevelt remix) makes me feel ...</td>\n",
       "      <td>[]</td>\n",
       "      <td>-0.1260</td>\n",
       "      <td>negative</td>\n",
       "      <td>1</td>\n",
       "    </tr>\n",
       "  </tbody>\n",
       "</table>\n",
       "</div>"
      ],
      "text/plain": [
       "                                                text  \\\n",
       "0  Thanks for all the beautiful wishes today!! I ...   \n",
       "1  @BBCR1 @DermotKennedy @BBCSounds WOW - Absolut...   \n",
       "2  Anti hero but make it acoustic 🥲\\n\\nNow at htt...   \n",
       "3  Take your self loathing to the dancefloor! 2 m...   \n",
       "4  The anti hero (Roosevelt remix) makes me feel ...   \n",
       "\n",
       "                 created_at                       date  likeCount  \\\n",
       "0 2022-12-13 23:07:26+00:00  2022-12-13 23:07:26+00:00     602625   \n",
       "1 2022-11-15 17:17:51+00:00  2022-11-15 17:17:51+00:00      32877   \n",
       "2 2022-11-11 00:31:01+00:00  2022-11-11 00:31:01+00:00     228241   \n",
       "3 2022-11-10 19:01:05+00:00  2022-11-10 19:01:05+00:00     161916   \n",
       "4 2022-11-09 22:21:38+00:00  2022-11-09 22:21:38+00:00     111888   \n",
       "\n",
       "                                               media  \\\n",
       "0  [Photo(previewUrl='https://pbs.twimg.com/media...   \n",
       "1                                                NaN   \n",
       "2  [Photo(previewUrl='https://pbs.twimg.com/media...   \n",
       "3  [Photo(previewUrl='https://pbs.twimg.com/media...   \n",
       "4  [Video(thumbnailUrl='https://pbs.twimg.com/ext...   \n",
       "\n",
       "                           outlinks  quoteCount quotedTweet  replyCount  \\\n",
       "0                                []       24562         NaN       22331   \n",
       "1                                []        1708         NaN        2521   \n",
       "2  ['http://store.taylorswift.com']        8938         NaN        7083   \n",
       "3  ['http://store.taylorswift.com']       11507         NaN        5755   \n",
       "4  ['http://store.taylorswift.com']        1619         NaN        2434   \n",
       "\n",
       "   retweetCount  retweetedTweet  \\\n",
       "0         96825             NaN   \n",
       "1          3115             NaN   \n",
       "2         23829             NaN   \n",
       "3         17477             NaN   \n",
       "4         13768             NaN   \n",
       "\n",
       "                                                 url                   id  \\\n",
       "0  https://twitter.com/taylorswift13/status/16028...  1602802403492995072   \n",
       "1  https://twitter.com/taylorswift13/status/15925...  1592567568191356930   \n",
       "2  https://twitter.com/taylorswift13/status/15908...  1590864637356310528   \n",
       "3  https://twitter.com/taylorswift13/status/15907...  1590781606918524929   \n",
       "4  https://twitter.com/taylorswift13/status/15904...  1590469691864018945   \n",
       "\n",
       "        conversationId                                         text_clean  \\\n",
       "0  1602802403492995072  Thanks for all the beautiful wishes today!! I ...   \n",
       "1  1592503899759394818  @BBCR1 @DermotKennedy @BBCSounds WOW - Absolut...   \n",
       "2  1590864637356310528            Anti hero but make it acoustic 🥲 Now at   \n",
       "3  1590781606918524929  Take your self loathing to the dancefloor! 2 m...   \n",
       "4  1590469691864018945  The anti hero (Roosevelt remix) makes me feel ...   \n",
       "\n",
       "                            mentions  sentiment_score sentiment_label  \\\n",
       "0                                 []           0.9257        positive   \n",
       "1  [BBCR1, DermotKennedy, BBCSounds]           0.8758        positive   \n",
       "2                                 []           0.1655        positive   \n",
       "3                                 []          -0.4032        negative   \n",
       "4                                 []          -0.1260        negative   \n",
       "\n",
       "   topic_dominant  \n",
       "0               4  \n",
       "1               1  \n",
       "2               1  \n",
       "3               1  \n",
       "4               1  "
      ]
     },
     "execution_count": 47,
     "metadata": {},
     "output_type": "execute_result"
    }
   ],
   "source": [
    "df.head(5)"
   ]
  },
  {
   "cell_type": "code",
   "execution_count": 49,
   "id": "99cd87d8-e93f-47d1-9d52-28654d58d367",
   "metadata": {},
   "outputs": [],
   "source": [
    "### Ploting daily tweets and daily avg sentiment"
   ]
  },
  {
   "cell_type": "code",
   "execution_count": 52,
   "id": "0a19dc50",
   "metadata": {},
   "outputs": [
    {
     "data": {
      "image/png": "[encoded data removed]",
      "text/plain": [
       "<Figure size 640x480 with 1 Axes>"
      ]
     },
     "metadata": {},
     "output_type": "display_data"
    },
    {
     "data": {
      "image/png": "[encoded data removed]",
      "text/plain": [
       "<Figure size 640x480 with 1 Axes>"
      ]
     },
     "metadata": {},
     "output_type": "display_data"
    }
   ],
   "source": [
    "if matplotlib_available:\n",
    "    try:\n",
    "        daily[\"tweets\"].plot(title=\"daily tweets\",color=\"pink\")\n",
    "        plt.show()\n",
    "        daily[\"avg_sentiment\"].plot(title=\"daily avg sentiment\", color=\"purple\")\n",
    "        plt.show()\n",
    "    except Exception as e:\n",
    "        print(\"plotting failed:\", e)\n",
    "else:\n",
    "    print(\"matplotlib not available; skipping plots.\")"
   ]
  },
  {
   "cell_type": "markdown",
   "id": "0b970a55-3e18-480e-addd-7ab9666e8306",
   "metadata": {},
   "source": [
    "### Exporting dataset"
   ]
  },
  {
   "cell_type": "code",
   "execution_count": 53,
   "id": "14657aa0",
   "metadata": {},
   "outputs": [],
   "source": [
    "df.to_csv(data_dir / \"posts_enriched.csv\", index=False)"
   ]
  },
  {
   "cell_type": "code",
   "execution_count": 54,
   "id": "d9707e8b-1788-4afa-84d1-1a72a6879201",
   "metadata": {},
   "outputs": [],
   "source": [
    "daily.reset_index().rename(columns={\"created_at\":\"date\"}).to_csv(data_dir / \"daily_trends.csv\", index=False)"
   ]
  },
  {
   "cell_type": "code",
   "execution_count": 55,
   "id": "bbbed8fb-5028-4a5b-aedb-c6b61681a1f7",
   "metadata": {},
   "outputs": [],
   "source": [
    "if forecast is not None:\n",
    "    forecast.reset_index().to_csv(data_dir / \"tweets_forecast_7d.csv\", index=False)"
   ]
  },
  {
   "cell_type": "code",
   "execution_count": 56,
   "id": "ba0fa91b-40d1-451e-a715-1f841f905648",
   "metadata": {},
   "outputs": [],
   "source": [
    "if topics_daily is not None:\n",
    "    topics_daily.to_csv(data_dir / \"topics_daily.csv\", index=False)"
   ]
  },
  {
   "cell_type": "code",
   "execution_count": 57,
   "id": "a2fa6de6-b15e-4ef1-a8fe-8c2cee3bb793",
   "metadata": {},
   "outputs": [
    {
     "name": "stdout",
     "output_type": "stream",
     "text": [
      "wrote to: C:\\Users\\anahi\\Semester 2\\Social media\\Project\\new\\Semester 2\\Social media\\Project\\new\\TaylorSwift13.csv\n"
     ]
    }
   ],
   "source": [
    "print(\"wrote to:\", data_dir.resolve())"
   ]
  },
  {
   "cell_type": "code",
   "execution_count": 58,
   "id": "8b425668-e27d-495a-ad5e-9c4aa6f413b5",
   "metadata": {},
   "outputs": [
    {
     "data": {
      "text/plain": [
       "[WindowsPath('Semester 2/Social media/Project/new/TaylorSwift13.csv/daily_trends.csv'),\n",
       " WindowsPath('Semester 2/Social media/Project/new/TaylorSwift13.csv/posts_enriched.csv'),\n",
       " WindowsPath('Semester 2/Social media/Project/new/TaylorSwift13.csv/topics_daily.csv')]"
      ]
     },
     "execution_count": 58,
     "metadata": {},
     "output_type": "execute_result"
    }
   ],
   "source": [
    "list(data_dir.glob(\"*.csv\"))"
   ]
  },
  {
   "cell_type": "markdown",
   "id": "4b461fb4-669c-4a03-8e62-c61309e3e65a",
   "metadata": {},
   "source": [
    "## Summary"
   ]
  },
  {
   "cell_type": "code",
   "execution_count": 59,
   "id": "6aacc49d",
   "metadata": {},
   "outputs": [
    {
     "name": "stdout",
     "output_type": "stream",
     "text": [
      "wrote: C:\\Users\\anahi\\Semester 2\\Social media\\Project\\new\\Semester 2\\Social media\\Project\\new\\TaylorSwift13.csv\\auto_report.md\n"
     ]
    }
   ],
   "source": [
    "\n",
    "sent_counts = df[\"sentiment_label\"].value_counts().to_dict()\n",
    "best_day = daily[\"tweets\"].idxmax().date() if len(daily) else \"N/A\"\n",
    "first_forecast = float(forecast.iloc[0,0]) if (forecast is not None and len(forecast)) else 0.0\n",
    "n_topics_detected = int(n_topics) if 'n_topics' in globals() else 0\n",
    "summary = f\"\"\"\n",
    "# TaylorSwift13 — social media analysis summary\n",
    "**total posts:** {len(df)}  \n",
    "**sentiment distribution:** {sent_counts}  \n",
    "**topics modeled:** {n_topics_detected}  \n",
    "**highest-activity day:** {best_day}  \n",
    "**7-day tweet volume forecast (next day):** {first_forecast:.1f}\n",
    "\"\"\"\n",
    "out_md = data_dir / \"auto_report.md\"\n",
    "with open(out_md, \"w\", encoding=\"utf-8\") as f:\n",
    "    f.write(summary)\n",
    "\n",
    "print(\"wrote:\", out_md.resolve())"
   ]
  },
  {
   "cell_type": "code",
   "execution_count": null,
   "id": "9a09d8d5-bd5c-4aa5-bbac-c9f1485cb82c",
   "metadata": {},
   "outputs": [],
   "source": []
  }
 ],
 "metadata": {
  "kernelspec": {
   "display_name": "Python 3 (ipykernel)",
   "language": "python",
   "name": "python3"
  },
  "language_info": {
   "codemirror_mode": {
    "name": "ipython",
    "version": 3
   },
   "file_extension": ".py",
   "mimetype": "text/x-python",
   "name": "python",
   "nbconvert_exporter": "python",
   "pygments_lexer": "ipython3",
   "version": "3.10.11"
  }
 },
 "nbformat": 4,
 "nbformat_minor": 5
}
